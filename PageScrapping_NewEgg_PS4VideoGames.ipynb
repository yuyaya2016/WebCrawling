{
 "cells": [
  {
   "cell_type": "code",
   "execution_count": 374,
   "metadata": {},
   "outputs": [],
   "source": [
    "#import requests as rq\n",
    "import numpy as np\n",
    "import pandas as pd\n",
    "from urllib.request import urlopen as uReq\n",
    "from bs4 import BeautifulSoup as soup\n"
   ]
  },
  {
   "cell_type": "code",
   "execution_count": 220,
   "metadata": {
    "collapsed": true
   },
   "outputs": [],
   "source": [
    "my_url = 'https://www.newegg.com/PS4-Video-Games/SubCategory/ID-3141'"
   ]
  },
  {
   "cell_type": "code",
   "execution_count": 221,
   "metadata": {
    "collapsed": true
   },
   "outputs": [],
   "source": [
    "#opening the connection and grabbing the page\n",
    "uClient = uReq(my_url)\n",
    "\n",
    "page_html = uClient.read()\n",
    "uClient.close()"
   ]
  },
  {
   "cell_type": "code",
   "execution_count": 222,
   "metadata": {
    "collapsed": true
   },
   "outputs": [],
   "source": [
    "#parsing data as html file\n",
    "page_soup = soup(page_html, \"html.parser\")"
   ]
  },
  {
   "cell_type": "code",
   "execution_count": 223,
   "metadata": {},
   "outputs": [
    {
     "data": {
      "text/plain": [
       "<h1 class=\"page-title-text\">PS4 Video Games</h1>"
      ]
     },
     "execution_count": 223,
     "metadata": {},
     "output_type": "execute_result"
    }
   ],
   "source": [
    "page_soup.h1"
   ]
  },
  {
   "cell_type": "code",
   "execution_count": 224,
   "metadata": {},
   "outputs": [
    {
     "data": {
      "text/plain": [
       "<p>Newegg.com - A great place to buy computers, computer parts, electronics, software, accessories, and DVDs online. With great prices, fast shipping, and top-rated customer service - Newegg shopping upgraded ™</p>"
      ]
     },
     "execution_count": 224,
     "metadata": {},
     "output_type": "execute_result"
    }
   ],
   "source": [
    "page_soup.p"
   ]
  },
  {
   "cell_type": "code",
   "execution_count": 225,
   "metadata": {},
   "outputs": [
    {
     "data": {
      "text/plain": [
       "<span class=\"noCSS\">Skip to:</span>"
      ]
     },
     "execution_count": 225,
     "metadata": {},
     "output_type": "execute_result"
    }
   ],
   "source": [
    "page_soup.span"
   ]
  },
  {
   "cell_type": "code",
   "execution_count": 226,
   "metadata": {
    "collapsed": true
   },
   "outputs": [],
   "source": [
    "#grabbing each product\n",
    "containers = page_soup.findAll(\"div\", {\"class\":\"item-container\"})"
   ]
  },
  {
   "cell_type": "code",
   "execution_count": 227,
   "metadata": {},
   "outputs": [
    {
     "data": {
      "text/plain": [
       "37"
      ]
     },
     "execution_count": 227,
     "metadata": {},
     "output_type": "execute_result"
    }
   ],
   "source": [
    "len(containers)"
   ]
  },
  {
   "cell_type": "code",
   "execution_count": 253,
   "metadata": {},
   "outputs": [],
   "source": [
    "#container = containers.findAll('div', class_= \"\")\n",
    "#can copy the below html into online jsbeautify to make the code readable (https://beautifier.io/)\n",
    "#we can see the info: product name, brand, price, product rating, etc. from the html we grab"
   ]
  },
  {
   "cell_type": "code",
   "execution_count": 256,
   "metadata": {
    "scrolled": true
   },
   "outputs": [
    {
     "data": {
      "text/plain": [
       "'Bethesda Softworks'"
      ]
     },
     "execution_count": 256,
     "metadata": {},
     "output_type": "execute_result"
    }
   ],
   "source": [
    "#go to item branding\n",
    "brand = container.div.div.a.img[\"title\"]\n",
    "brand"
   ]
  },
  {
   "cell_type": "code",
   "execution_count": 230,
   "metadata": {},
   "outputs": [
    {
     "data": {
      "text/plain": [
       "[<a class=\"item-title\" href=\"https://www.newegg.com/Product/Product.aspx?Item=N82E16879261653\" title=\"View Details\"><i class=\"icon-premier icon-premier-xsm\"></i>Marvel's Spider-Man - PlayStation 4</a>]"
      ]
     },
     "execution_count": 230,
     "metadata": {},
     "output_type": "execute_result"
    }
   ],
   "source": [
    "#grab item titles\n",
    "title_container = container.findAll(\"a\", {\"class\":\"item-title\"})\n",
    "title_container"
   ]
  },
  {
   "cell_type": "code",
   "execution_count": 231,
   "metadata": {},
   "outputs": [
    {
     "data": {
      "text/plain": [
       "\"Marvel's Spider-Man - PlayStation 4\""
      ]
     },
     "execution_count": 231,
     "metadata": {},
     "output_type": "execute_result"
    }
   ],
   "source": [
    "#grab product names\n",
    "product_name = title_container[0].text\n",
    "product_name"
   ]
  },
  {
   "cell_type": "code",
   "execution_count": 232,
   "metadata": {},
   "outputs": [
    {
     "data": {
      "text/plain": [
       "'Free Shipping'"
      ]
     },
     "execution_count": 232,
     "metadata": {},
     "output_type": "execute_result"
    }
   ],
   "source": [
    "#grab shipping tag\n",
    "shipping_container = container.findAll(\"li\", {\"class\":\"price-ship\"})\n",
    "shipping_container[0].text.strip() #strip() to remove the space in the front and back of the line\n"
   ]
  },
  {
   "cell_type": "code",
   "execution_count": null,
   "metadata": {
    "collapsed": true
   },
   "outputs": [],
   "source": [
    "# brand = title_container.text.split(' ', 1)\n",
    "# shipping_container = container.findAll(\"li\", class_ = \"price-ship\")"
   ]
  },
  {
   "cell_type": "code",
   "execution_count": 401,
   "metadata": {},
   "outputs": [
    {
     "name": "stdout",
     "output_type": "stream",
     "text": [
      "brand: ['PlayStation', 'Ubisoft', 'PlayStation', 'PlayStation', 'SQUARE ENIX USA', 'PlayStation', 'Bethesda Softworks', 'Capcom', 'PlayStation', 'Activision', 'Capcom', 'PlayStation', 'PlayStation', 'PlayStation', 'Bandai Namco Entertainment America Inc', 'Sega', 'PlayStation', 'Unknown brand', 'Electronic Arts', 'PlayStation', 'PlayStation', 'PlayStation', 'PlayStation', 'Bethesda Softworks', 'PlayStation', 'Bethesda Softworks', 'Activision', 'Electronic Arts', 'Electronic Arts', 'Activision', 'Electronic Arts', 'PlayStation', 'Bethesda Softworks', 'Electronic Arts', 'Bethesda Softworks', 'Bethesda Softworks', 'Bethesda Softworks']\n",
      "\n",
      "\n",
      "product_name: [\"Marvel's Spider-Man - PlayStation 4\", \"Tom Clancy's Rainbow Six Siege Advanced Edition - PlayStation 4\", 'Horizon Zero Dawn - Complete Edition - PlayStation 4', 'God of War - PlayStation 4', 'Kingdom Hearts 1.5 + 2.5 HD Remix - PlayStation 4', 'Bloodborne - PlayStation 4', 'Doom VFR - PlayStation 4', 'Street Fighter V: Arcade Edition - PlayStation 4', 'Detroit: Become Human - PlayStation 4', 'Destiny 2 - PlayStation 4', 'Monster Hunter: World - PlayStation 4', 'The Last of Us Remastered - PlayStation 4', 'Nioh - PlayStation 4', 'Until Dawn - PlayStation 4', 'Dragon Ball Fighter Z - PlayStation 4', 'Yakuza 6: The Song of Life (After Hours Premium Edition) - PlayStation 4', 'Ratchet & Clank - PlayStation 4', 'BlazBlue: Cross Tag Battle - PlayStation 4', 'Star Wars Battlefront II - PlayStation 4', 'Gravity Rush 2 - PlayStation 4', 'Wipeout Omega Collection - PlayStation 4', \"Everybody's Golf - PlayStation 4\", 'Knack 2 - PlayStation 4', 'Wolfenstein 2: The New Colossus - PlayStation 4', 'UNCHARTED: The Lost Legacy - PlayStation 4', \"The Elder Scrolls Online: Summerset Collector's Edition - PlayStation 4\", 'Destiny 2: Forsaken - Legendary Collection - PlayStation 4', 'Madden NFL 19 - PlayStation 4', 'Madden NFL 19 Hall of Fame Edition - PlayStation 4', 'Call of Duty: Black Ops 4 - PlayStation 4', 'Battlefield V - PlayStation 4', 'The Last Guardian - PlayStation 4', 'The Elder Scrolls Online: Summerset - PlayStation 4', 'Battlefield V Deluxe Edition - PlayStation 4', 'The Elder Scrolls V: Skyrim VR - PlayStation 4', 'The Evil Within 2 - PlayStation 4', 'Fallout 4 Game Of The Year Edition - PlayStation 4']\n",
      "\n",
      "\n",
      "price: ['59.99', '49.99', '19.99', '55.98', '29.99', '19.99', '24.99', '19.99', '59.99', '19.99', '49.53', '19.99', '19.99', '19.99', '48.98', '89.99', '19.99', '49.99', '29.99', '19.99', '19.99', '19.99', '19.99', '39.99', '31.15', '89.99', '59.99', '59.99', '79.99', 'see price in the cart', 'see price in the cart', '19.99', '39.99', 'see price in the cart', '59.99', '38.21', '59.99']\n",
      "\n",
      "\n",
      "shipping_container: /['Free Shipping', 'Free Shipping', '$2.99 Shipping', 'Free Shipping', '$2.99 Shipping', '$2.99 Shipping', '$2.99 Shipping', '$2.99 Shipping', 'Free Shipping', 'Free Shipping', 'Free Shipping', '$2.99 Shipping', '$2.99 Shipping', '$2.99 Shipping', 'Free Shipping', '$5.99 Shipping', '$2.99 Shipping', 'Free Shipping', '$2.99 Shipping', '$2.99 Shipping', '$2.99 Shipping', '$2.99 Shipping', '$2.99 Shipping', 'Free Shipping', 'Free Shipping', '$2.99 Shipping', 'Free Shipping', 'Free Shipping', 'Free Shipping', 'Free Shipping', 'Free Shipping', '$2.99 Shipping', '$2.99 Shipping', 'Free Shipping', 'Free Shipping', 'Free Shipping', 'Free Shipping']\n"
     ]
    }
   ],
   "source": [
    "#use loop to get brand, product name, shipping cost\n",
    "\n",
    "brand = []\n",
    "product_name = []\n",
    "price = []\n",
    "shipping_cost = []\n",
    "\n",
    "for container in containers:\n",
    "    try:\n",
    "        brand.append(container.div.div.a.img[\"title\"])                   \n",
    "    except:\n",
    "        brand.append(\"Unknown brand\")\n",
    "\n",
    "    try:\n",
    "        product_name.append(container.find(\"a\", class_ = \"item-title\").text)      \n",
    "    except:\n",
    "        product_name.append()\n",
    "    \n",
    "    try:\n",
    "        price.append(container.find(\"li\", class_ = \"price-current\").strong.text \n",
    "                     + container.find(\"li\", class_ = \"price-current\").sup.text)\n",
    "    except:\n",
    "        price.append(\"see price in the cart\")\n",
    "        \n",
    "    try:\n",
    "        shipping_cost.append(container.find(\"li\", class_ = \"price-ship\").string.strip())\n",
    "    except:\n",
    "        shipping_cost.append(np.nan)\n",
    "\n",
    "    \n",
    "print(\"brand: \" + str(brand))\n",
    "print(\"\\n\")\n",
    "print(\"product_name: \" + str(product_name))\n",
    "print(\"\\n\")\n",
    "print(\"price: \" + str(price))\n",
    "print(\"\\n\")\n",
    "print( \"shipping_container: \" + \"/\" + str(shipping_container))\n"
   ]
  },
  {
   "cell_type": "code",
   "execution_count": 402,
   "metadata": {},
   "outputs": [
    {
     "data": {
      "text/html": [
       "<div>\n",
       "<style>\n",
       "    .dataframe thead tr:only-child th {\n",
       "        text-align: right;\n",
       "    }\n",
       "\n",
       "    .dataframe thead th {\n",
       "        text-align: left;\n",
       "    }\n",
       "\n",
       "    .dataframe tbody tr th {\n",
       "        vertical-align: top;\n",
       "    }\n",
       "</style>\n",
       "<table border=\"1\" class=\"dataframe\">\n",
       "  <thead>\n",
       "    <tr style=\"text-align: right;\">\n",
       "      <th></th>\n",
       "      <th>brand</th>\n",
       "      <th>price</th>\n",
       "      <th>product_name</th>\n",
       "      <th>shipping_container</th>\n",
       "    </tr>\n",
       "  </thead>\n",
       "  <tbody>\n",
       "    <tr>\n",
       "      <th>0</th>\n",
       "      <td>PlayStation</td>\n",
       "      <td>59.99</td>\n",
       "      <td>Marvel's Spider-Man - PlayStation 4</td>\n",
       "      <td>Free Shipping</td>\n",
       "    </tr>\n",
       "    <tr>\n",
       "      <th>1</th>\n",
       "      <td>Ubisoft</td>\n",
       "      <td>49.99</td>\n",
       "      <td>Tom Clancy's Rainbow Six Siege Advanced Editio...</td>\n",
       "      <td>Free Shipping</td>\n",
       "    </tr>\n",
       "    <tr>\n",
       "      <th>2</th>\n",
       "      <td>PlayStation</td>\n",
       "      <td>19.99</td>\n",
       "      <td>Horizon Zero Dawn - Complete Edition - PlaySta...</td>\n",
       "      <td>$2.99 Shipping</td>\n",
       "    </tr>\n",
       "    <tr>\n",
       "      <th>3</th>\n",
       "      <td>PlayStation</td>\n",
       "      <td>55.98</td>\n",
       "      <td>God of War - PlayStation 4</td>\n",
       "      <td>Free Shipping</td>\n",
       "    </tr>\n",
       "    <tr>\n",
       "      <th>4</th>\n",
       "      <td>SQUARE ENIX USA</td>\n",
       "      <td>29.99</td>\n",
       "      <td>Kingdom Hearts 1.5 + 2.5 HD Remix - PlayStation 4</td>\n",
       "      <td>$2.99 Shipping</td>\n",
       "    </tr>\n",
       "    <tr>\n",
       "      <th>5</th>\n",
       "      <td>PlayStation</td>\n",
       "      <td>19.99</td>\n",
       "      <td>Bloodborne - PlayStation 4</td>\n",
       "      <td>$2.99 Shipping</td>\n",
       "    </tr>\n",
       "    <tr>\n",
       "      <th>6</th>\n",
       "      <td>Bethesda Softworks</td>\n",
       "      <td>24.99</td>\n",
       "      <td>Doom VFR - PlayStation 4</td>\n",
       "      <td>$2.99 Shipping</td>\n",
       "    </tr>\n",
       "    <tr>\n",
       "      <th>7</th>\n",
       "      <td>Capcom</td>\n",
       "      <td>19.99</td>\n",
       "      <td>Street Fighter V: Arcade Edition - PlayStation 4</td>\n",
       "      <td>$2.99 Shipping</td>\n",
       "    </tr>\n",
       "    <tr>\n",
       "      <th>8</th>\n",
       "      <td>PlayStation</td>\n",
       "      <td>59.99</td>\n",
       "      <td>Detroit: Become Human - PlayStation 4</td>\n",
       "      <td>Free Shipping</td>\n",
       "    </tr>\n",
       "    <tr>\n",
       "      <th>9</th>\n",
       "      <td>Activision</td>\n",
       "      <td>19.99</td>\n",
       "      <td>Destiny 2 - PlayStation 4</td>\n",
       "      <td>Free Shipping</td>\n",
       "    </tr>\n",
       "    <tr>\n",
       "      <th>10</th>\n",
       "      <td>Capcom</td>\n",
       "      <td>49.53</td>\n",
       "      <td>Monster Hunter: World - PlayStation 4</td>\n",
       "      <td>Free Shipping</td>\n",
       "    </tr>\n",
       "    <tr>\n",
       "      <th>11</th>\n",
       "      <td>PlayStation</td>\n",
       "      <td>19.99</td>\n",
       "      <td>The Last of Us Remastered - PlayStation 4</td>\n",
       "      <td>$2.99 Shipping</td>\n",
       "    </tr>\n",
       "    <tr>\n",
       "      <th>12</th>\n",
       "      <td>PlayStation</td>\n",
       "      <td>19.99</td>\n",
       "      <td>Nioh - PlayStation 4</td>\n",
       "      <td>$2.99 Shipping</td>\n",
       "    </tr>\n",
       "    <tr>\n",
       "      <th>13</th>\n",
       "      <td>PlayStation</td>\n",
       "      <td>19.99</td>\n",
       "      <td>Until Dawn - PlayStation 4</td>\n",
       "      <td>$2.99 Shipping</td>\n",
       "    </tr>\n",
       "    <tr>\n",
       "      <th>14</th>\n",
       "      <td>Bandai Namco Entertainment America Inc</td>\n",
       "      <td>48.98</td>\n",
       "      <td>Dragon Ball Fighter Z - PlayStation 4</td>\n",
       "      <td>Free Shipping</td>\n",
       "    </tr>\n",
       "    <tr>\n",
       "      <th>15</th>\n",
       "      <td>Sega</td>\n",
       "      <td>89.99</td>\n",
       "      <td>Yakuza 6: The Song of Life (After Hours Premiu...</td>\n",
       "      <td>$5.99 Shipping</td>\n",
       "    </tr>\n",
       "    <tr>\n",
       "      <th>16</th>\n",
       "      <td>PlayStation</td>\n",
       "      <td>19.99</td>\n",
       "      <td>Ratchet &amp; Clank - PlayStation 4</td>\n",
       "      <td>$2.99 Shipping</td>\n",
       "    </tr>\n",
       "    <tr>\n",
       "      <th>17</th>\n",
       "      <td>Unknown brand</td>\n",
       "      <td>49.99</td>\n",
       "      <td>BlazBlue: Cross Tag Battle - PlayStation 4</td>\n",
       "      <td>Free Shipping</td>\n",
       "    </tr>\n",
       "    <tr>\n",
       "      <th>18</th>\n",
       "      <td>Electronic Arts</td>\n",
       "      <td>29.99</td>\n",
       "      <td>Star Wars Battlefront II - PlayStation 4</td>\n",
       "      <td>$2.99 Shipping</td>\n",
       "    </tr>\n",
       "    <tr>\n",
       "      <th>19</th>\n",
       "      <td>PlayStation</td>\n",
       "      <td>19.99</td>\n",
       "      <td>Gravity Rush 2 - PlayStation 4</td>\n",
       "      <td>$2.99 Shipping</td>\n",
       "    </tr>\n",
       "    <tr>\n",
       "      <th>20</th>\n",
       "      <td>PlayStation</td>\n",
       "      <td>19.99</td>\n",
       "      <td>Wipeout Omega Collection - PlayStation 4</td>\n",
       "      <td>$2.99 Shipping</td>\n",
       "    </tr>\n",
       "    <tr>\n",
       "      <th>21</th>\n",
       "      <td>PlayStation</td>\n",
       "      <td>19.99</td>\n",
       "      <td>Everybody's Golf - PlayStation 4</td>\n",
       "      <td>$2.99 Shipping</td>\n",
       "    </tr>\n",
       "    <tr>\n",
       "      <th>22</th>\n",
       "      <td>PlayStation</td>\n",
       "      <td>19.99</td>\n",
       "      <td>Knack 2 - PlayStation 4</td>\n",
       "      <td>$2.99 Shipping</td>\n",
       "    </tr>\n",
       "    <tr>\n",
       "      <th>23</th>\n",
       "      <td>Bethesda Softworks</td>\n",
       "      <td>39.99</td>\n",
       "      <td>Wolfenstein 2: The New Colossus - PlayStation 4</td>\n",
       "      <td>Free Shipping</td>\n",
       "    </tr>\n",
       "    <tr>\n",
       "      <th>24</th>\n",
       "      <td>PlayStation</td>\n",
       "      <td>31.15</td>\n",
       "      <td>UNCHARTED: The Lost Legacy - PlayStation 4</td>\n",
       "      <td>Free Shipping</td>\n",
       "    </tr>\n",
       "    <tr>\n",
       "      <th>25</th>\n",
       "      <td>Bethesda Softworks</td>\n",
       "      <td>89.99</td>\n",
       "      <td>The Elder Scrolls Online: Summerset Collector'...</td>\n",
       "      <td>$2.99 Shipping</td>\n",
       "    </tr>\n",
       "    <tr>\n",
       "      <th>26</th>\n",
       "      <td>Activision</td>\n",
       "      <td>59.99</td>\n",
       "      <td>Destiny 2: Forsaken - Legendary Collection - P...</td>\n",
       "      <td>Free Shipping</td>\n",
       "    </tr>\n",
       "    <tr>\n",
       "      <th>27</th>\n",
       "      <td>Electronic Arts</td>\n",
       "      <td>59.99</td>\n",
       "      <td>Madden NFL 19 - PlayStation 4</td>\n",
       "      <td>Free Shipping</td>\n",
       "    </tr>\n",
       "    <tr>\n",
       "      <th>28</th>\n",
       "      <td>Electronic Arts</td>\n",
       "      <td>79.99</td>\n",
       "      <td>Madden NFL 19 Hall of Fame Edition - PlayStati...</td>\n",
       "      <td>Free Shipping</td>\n",
       "    </tr>\n",
       "    <tr>\n",
       "      <th>29</th>\n",
       "      <td>Activision</td>\n",
       "      <td>see price in the cart</td>\n",
       "      <td>Call of Duty: Black Ops 4 - PlayStation 4</td>\n",
       "      <td>Free Shipping</td>\n",
       "    </tr>\n",
       "    <tr>\n",
       "      <th>30</th>\n",
       "      <td>Electronic Arts</td>\n",
       "      <td>see price in the cart</td>\n",
       "      <td>Battlefield V - PlayStation 4</td>\n",
       "      <td>Free Shipping</td>\n",
       "    </tr>\n",
       "    <tr>\n",
       "      <th>31</th>\n",
       "      <td>PlayStation</td>\n",
       "      <td>19.99</td>\n",
       "      <td>The Last Guardian - PlayStation 4</td>\n",
       "      <td>$2.99 Shipping</td>\n",
       "    </tr>\n",
       "    <tr>\n",
       "      <th>32</th>\n",
       "      <td>Bethesda Softworks</td>\n",
       "      <td>39.99</td>\n",
       "      <td>The Elder Scrolls Online: Summerset - PlayStat...</td>\n",
       "      <td>$2.99 Shipping</td>\n",
       "    </tr>\n",
       "    <tr>\n",
       "      <th>33</th>\n",
       "      <td>Electronic Arts</td>\n",
       "      <td>see price in the cart</td>\n",
       "      <td>Battlefield V Deluxe Edition - PlayStation 4</td>\n",
       "      <td>Free Shipping</td>\n",
       "    </tr>\n",
       "    <tr>\n",
       "      <th>34</th>\n",
       "      <td>Bethesda Softworks</td>\n",
       "      <td>59.99</td>\n",
       "      <td>The Elder Scrolls V: Skyrim VR - PlayStation 4</td>\n",
       "      <td>Free Shipping</td>\n",
       "    </tr>\n",
       "    <tr>\n",
       "      <th>35</th>\n",
       "      <td>Bethesda Softworks</td>\n",
       "      <td>38.21</td>\n",
       "      <td>The Evil Within 2 - PlayStation 4</td>\n",
       "      <td>Free Shipping</td>\n",
       "    </tr>\n",
       "    <tr>\n",
       "      <th>36</th>\n",
       "      <td>Bethesda Softworks</td>\n",
       "      <td>59.99</td>\n",
       "      <td>Fallout 4 Game Of The Year Edition - PlayStati...</td>\n",
       "      <td>Free Shipping</td>\n",
       "    </tr>\n",
       "  </tbody>\n",
       "</table>\n",
       "</div>"
      ],
      "text/plain": [
       "                                     brand                  price  \\\n",
       "0                              PlayStation                  59.99   \n",
       "1                                  Ubisoft                  49.99   \n",
       "2                              PlayStation                  19.99   \n",
       "3                              PlayStation                  55.98   \n",
       "4                          SQUARE ENIX USA                  29.99   \n",
       "5                              PlayStation                  19.99   \n",
       "6                       Bethesda Softworks                  24.99   \n",
       "7                                   Capcom                  19.99   \n",
       "8                              PlayStation                  59.99   \n",
       "9                               Activision                  19.99   \n",
       "10                                  Capcom                  49.53   \n",
       "11                             PlayStation                  19.99   \n",
       "12                             PlayStation                  19.99   \n",
       "13                             PlayStation                  19.99   \n",
       "14  Bandai Namco Entertainment America Inc                  48.98   \n",
       "15                                    Sega                  89.99   \n",
       "16                             PlayStation                  19.99   \n",
       "17                           Unknown brand                  49.99   \n",
       "18                         Electronic Arts                  29.99   \n",
       "19                             PlayStation                  19.99   \n",
       "20                             PlayStation                  19.99   \n",
       "21                             PlayStation                  19.99   \n",
       "22                             PlayStation                  19.99   \n",
       "23                      Bethesda Softworks                  39.99   \n",
       "24                             PlayStation                  31.15   \n",
       "25                      Bethesda Softworks                  89.99   \n",
       "26                              Activision                  59.99   \n",
       "27                         Electronic Arts                  59.99   \n",
       "28                         Electronic Arts                  79.99   \n",
       "29                              Activision  see price in the cart   \n",
       "30                         Electronic Arts  see price in the cart   \n",
       "31                             PlayStation                  19.99   \n",
       "32                      Bethesda Softworks                  39.99   \n",
       "33                         Electronic Arts  see price in the cart   \n",
       "34                      Bethesda Softworks                  59.99   \n",
       "35                      Bethesda Softworks                  38.21   \n",
       "36                      Bethesda Softworks                  59.99   \n",
       "\n",
       "                                         product_name shipping_container  \n",
       "0                 Marvel's Spider-Man - PlayStation 4      Free Shipping  \n",
       "1   Tom Clancy's Rainbow Six Siege Advanced Editio...      Free Shipping  \n",
       "2   Horizon Zero Dawn - Complete Edition - PlaySta...     $2.99 Shipping  \n",
       "3                          God of War - PlayStation 4      Free Shipping  \n",
       "4   Kingdom Hearts 1.5 + 2.5 HD Remix - PlayStation 4     $2.99 Shipping  \n",
       "5                          Bloodborne - PlayStation 4     $2.99 Shipping  \n",
       "6                            Doom VFR - PlayStation 4     $2.99 Shipping  \n",
       "7    Street Fighter V: Arcade Edition - PlayStation 4     $2.99 Shipping  \n",
       "8               Detroit: Become Human - PlayStation 4      Free Shipping  \n",
       "9                           Destiny 2 - PlayStation 4      Free Shipping  \n",
       "10              Monster Hunter: World - PlayStation 4      Free Shipping  \n",
       "11          The Last of Us Remastered - PlayStation 4     $2.99 Shipping  \n",
       "12                               Nioh - PlayStation 4     $2.99 Shipping  \n",
       "13                         Until Dawn - PlayStation 4     $2.99 Shipping  \n",
       "14              Dragon Ball Fighter Z - PlayStation 4      Free Shipping  \n",
       "15  Yakuza 6: The Song of Life (After Hours Premiu...     $5.99 Shipping  \n",
       "16                    Ratchet & Clank - PlayStation 4     $2.99 Shipping  \n",
       "17         BlazBlue: Cross Tag Battle - PlayStation 4      Free Shipping  \n",
       "18           Star Wars Battlefront II - PlayStation 4     $2.99 Shipping  \n",
       "19                     Gravity Rush 2 - PlayStation 4     $2.99 Shipping  \n",
       "20           Wipeout Omega Collection - PlayStation 4     $2.99 Shipping  \n",
       "21                   Everybody's Golf - PlayStation 4     $2.99 Shipping  \n",
       "22                            Knack 2 - PlayStation 4     $2.99 Shipping  \n",
       "23    Wolfenstein 2: The New Colossus - PlayStation 4      Free Shipping  \n",
       "24         UNCHARTED: The Lost Legacy - PlayStation 4      Free Shipping  \n",
       "25  The Elder Scrolls Online: Summerset Collector'...     $2.99 Shipping  \n",
       "26  Destiny 2: Forsaken - Legendary Collection - P...      Free Shipping  \n",
       "27                      Madden NFL 19 - PlayStation 4      Free Shipping  \n",
       "28  Madden NFL 19 Hall of Fame Edition - PlayStati...      Free Shipping  \n",
       "29          Call of Duty: Black Ops 4 - PlayStation 4      Free Shipping  \n",
       "30                      Battlefield V - PlayStation 4      Free Shipping  \n",
       "31                  The Last Guardian - PlayStation 4     $2.99 Shipping  \n",
       "32  The Elder Scrolls Online: Summerset - PlayStat...     $2.99 Shipping  \n",
       "33       Battlefield V Deluxe Edition - PlayStation 4      Free Shipping  \n",
       "34     The Elder Scrolls V: Skyrim VR - PlayStation 4      Free Shipping  \n",
       "35                  The Evil Within 2 - PlayStation 4      Free Shipping  \n",
       "36  Fallout 4 Game Of The Year Edition - PlayStati...      Free Shipping  "
      ]
     },
     "execution_count": 402,
     "metadata": {},
     "output_type": "execute_result"
    }
   ],
   "source": [
    "PS4game_dict = {\"brand\" : brand,\n",
    "               \"product_name\" : product_name,\n",
    "                \"price\" : price,\n",
    "               \"shipping_container\" : shipping_container}\n",
    "\n",
    "PS4game_df = pd.DataFrame(PS4game_dict)\n",
    "PS4game_df"
   ]
  },
  {
   "cell_type": "code",
   "execution_count": 404,
   "metadata": {},
   "outputs": [],
   "source": [
    "PS4game_df.to_csv('PS4game_df')"
   ]
  },
  {
   "cell_type": "markdown",
   "metadata": {},
   "source": [
    "##add into the csv code\n",
    "\n",
    "filename = 'product.csv'\n",
    "\n",
    "f = open(filename, \"w\") # w = write\n",
    "\n",
    "headers = \"brand, product_name, shipping\\n\"\n",
    "\n",
    "f.write(headers)\n",
    "\n",
    "f.write(brand + \",\" + product_name.replace(\",\", \"|\") + \",\" + shipping)\n",
    "\n",
    "f.close()"
   ]
  }
 ],
 "metadata": {
  "kernelspec": {
   "display_name": "Python 3",
   "language": "python",
   "name": "python3"
  },
  "language_info": {
   "codemirror_mode": {
    "name": "ipython",
    "version": 3
   },
   "file_extension": ".py",
   "mimetype": "text/x-python",
   "name": "python",
   "nbconvert_exporter": "python",
   "pygments_lexer": "ipython3",
   "version": "3.6.1"
  }
 },
 "nbformat": 4,
 "nbformat_minor": 2
}
